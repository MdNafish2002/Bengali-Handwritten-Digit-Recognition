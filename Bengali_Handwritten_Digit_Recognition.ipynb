{
  "cells": [
    {
      "cell_type": "markdown",
      "metadata": {
        "id": "view-in-github",
        "colab_type": "text"
      },
      "source": [
        "<a href=\"https://colab.research.google.com/github/MdNafish2002/Bengali-Handwritten-Digit-Recognition/blob/main/Bengali_Handwritten_Digit_Recognition.ipynb\" target=\"_parent\"><img src=\"https://colab.research.google.com/assets/colab-badge.svg\" alt=\"Open In Colab\"/></a>"
      ]
    },
    {
      "cell_type": "code",
      "execution_count": 1,
      "metadata": {
        "colab": {
          "base_uri": "https://localhost:8080/"
        },
        "id": "iohhzVkNyFJ9",
        "outputId": "8f124fc3-d99e-4869-a9c7-5379b605a5e4"
      },
      "outputs": [
        {
          "output_type": "stream",
          "name": "stdout",
          "text": [
            "Drive already mounted at /content/drive; to attempt to forcibly remount, call drive.mount(\"/content/drive\", force_remount=True).\n"
          ]
        }
      ],
      "source": [
        "from google.colab import drive\n",
        "drive.mount('/content/drive')"
      ]
    },
    {
      "cell_type": "markdown",
      "metadata": {
        "id": "u55CeTwb-NK8"
      },
      "source": []
    },
    {
      "cell_type": "code",
      "execution_count": 2,
      "metadata": {
        "id": "LGX8lNs51n0g"
      },
      "outputs": [],
      "source": [
        "import pandas as pd\n",
        "import numpy as np\n",
        "import os\n",
        "import tensorflow as tf\n",
        "import cv2\n",
        "import random\n",
        "from tensorflow import keras\n",
        "from keras.layers import Lambda\n",
        "#from keras.layers.core import Dense\n",
        "from keras.layers import InputLayer\n",
        "from keras.layers import Flatten\n",
        "from keras.layers import Input\n",
        "from keras.models import Sequential, Model\n",
        "from tensorflow.keras.models import Sequential\n",
        "from  matplotlib import pyplot as plt\n",
        "import matplotlib.image as mpimg\n",
        "%matplotlib inline"
      ]
    },
    {
      "cell_type": "code",
      "execution_count": 3,
      "metadata": {
        "id": "sYbZ1KtsZTTX"
      },
      "outputs": [],
      "source": [
        "from PIL import Image\n",
        "import os\n",
        "\n",
        "# Define the new width and height\n",
        "new_width = 150\n",
        "new_height = 150\n",
        "\n",
        "# Paths to your dataset folders\n",
        "train_dir = '/content/drive/MyDrive/Dataset/Train'\n",
        "test_dir = '/content/drive/MyDrive/Dataset/Test'\n",
        "\n",
        "# Loop through training images, resize, and save\n",
        "for class_folder in os.listdir(train_dir):\n",
        "    class_path = os.path.join(train_dir, class_folder)\n",
        "    for image_name in os.listdir(class_path):\n",
        "        image_path = os.path.join(class_path, image_name)\n",
        "        img = Image.open(image_path)\n",
        "        img = img.resize((new_width, new_height))\n",
        "        img.save(image_path)\n",
        "\n",
        "# Loop through test images, resize, and save\n",
        "for class_folder in os.listdir(test_dir):\n",
        "    class_path = os.path.join(test_dir, class_folder)\n",
        "    for image_name in os.listdir(class_path):\n",
        "        image_path = os.path.join(class_path, image_name)\n",
        "        img = Image.open(image_path)\n",
        "        img = img.resize((new_width, new_height))\n",
        "        img.save(image_path)"
      ]
    },
    {
      "cell_type": "code",
      "execution_count": 4,
      "metadata": {
        "id": "sqItPBKtRK3D"
      },
      "outputs": [],
      "source": [
        "import numpy as np\n",
        "import tensorflow as tf\n",
        "from tensorflow.keras.preprocessing.image import ImageDataGenerator"
      ]
    },
    {
      "cell_type": "code",
      "execution_count": 5,
      "metadata": {
        "colab": {
          "base_uri": "https://localhost:8080/"
        },
        "id": "yGm9lYuiThP9",
        "outputId": "0fd2bc31-5058-485c-e983-89495ad5dc84"
      },
      "outputs": [
        {
          "output_type": "stream",
          "name": "stdout",
          "text": [
            "Found 3620 images belonging to 10 classes.\n",
            "Found 12000 images belonging to 10 classes.\n",
            "Epoch 1/10\n",
            "114/114 [==============================] - 27s 183ms/step - loss: 1.8925 - accuracy: 0.3318\n",
            "Epoch 2/10\n",
            "114/114 [==============================] - 21s 183ms/step - loss: 1.2330 - accuracy: 0.6006\n",
            "Epoch 3/10\n",
            "114/114 [==============================] - 21s 185ms/step - loss: 0.9680 - accuracy: 0.6890\n",
            "Epoch 4/10\n",
            "114/114 [==============================] - 21s 186ms/step - loss: 0.8607 - accuracy: 0.7287\n",
            "Epoch 5/10\n",
            "114/114 [==============================] - 22s 190ms/step - loss: 0.7952 - accuracy: 0.7453\n",
            "Epoch 6/10\n",
            "114/114 [==============================] - 21s 186ms/step - loss: 0.6905 - accuracy: 0.7804\n",
            "Epoch 7/10\n",
            "114/114 [==============================] - 22s 189ms/step - loss: 0.6704 - accuracy: 0.8014\n",
            "Epoch 8/10\n",
            "114/114 [==============================] - 22s 190ms/step - loss: 0.6261 - accuracy: 0.7967\n",
            "Epoch 9/10\n",
            "114/114 [==============================] - 22s 190ms/step - loss: 0.5898 - accuracy: 0.8188\n",
            "Epoch 10/10\n",
            "114/114 [==============================] - 22s 193ms/step - loss: 0.5712 - accuracy: 0.8262\n",
            "375/375 [==============================] - 44s 116ms/step - loss: 0.3476 - accuracy: 0.8914\n",
            "Test accuracy: 0.8914166688919067\n"
          ]
        }
      ],
      "source": [
        "from tensorflow.keras.models import Sequential\n",
        "from tensorflow.keras import layers\n",
        "# Define data directories\n",
        "train_dir = '/content/drive/MyDrive/Dataset/Train'\n",
        "test_dir = '/content/drive/MyDrive/Dataset/Test'\n",
        "\n",
        "# Define image dimensions and other parameters\n",
        "img_width, img_height = 150, 150\n",
        "batch_size = 32\n",
        "num_classes = 10  # Replace with your number of classes\n",
        "\n",
        "# Data augmentation and normalization for training\n",
        "train_datagen = ImageDataGenerator(\n",
        "    rescale=1.0 / 255.0,\n",
        "    rotation_range=20,\n",
        "    width_shift_range=0.2,\n",
        "    height_shift_range=0.2,\n",
        "    shear_range=0.2,\n",
        "    zoom_range=0.2,\n",
        "    horizontal_flip=True,\n",
        "    fill_mode='nearest'\n",
        ")\n",
        "\n",
        "# Data normalization for testing\n",
        "test_datagen = ImageDataGenerator(rescale=1.0 / 255.0)\n",
        "\n",
        "# Load and preprocess training data\n",
        "train_generator = train_datagen.flow_from_directory(\n",
        "    train_dir,\n",
        "    target_size=(img_width, img_height),\n",
        "    batch_size=batch_size,\n",
        "    color_mode='grayscale',  # Specify grayscale\n",
        "    class_mode='categorical'\n",
        ")\n",
        "\n",
        "# Load and preprocess test data\n",
        "test_generator = test_datagen.flow_from_directory(\n",
        "    test_dir,\n",
        "    target_size=(img_width, img_height),\n",
        "    batch_size=batch_size,\n",
        "    color_mode='grayscale',  # Specify grayscale\n",
        "    class_mode='categorical'\n",
        ")\n",
        "\n",
        "# Create and compile CNN model\n",
        "model = Sequential([\n",
        "    layers.Conv2D(32, (3, 3), activation='relu', input_shape=(img_width, img_height, 1)),  # Grayscale has 1 channel\n",
        "    layers.MaxPooling2D((2, 2)),\n",
        "    layers.Conv2D(64, (3, 3), activation='relu'),\n",
        "    layers.MaxPooling2D((2, 2)),\n",
        "    layers.Conv2D(128, (3, 3), activation='relu'),\n",
        "    layers.MaxPooling2D((2, 2)),\n",
        "    layers.Flatten(),\n",
        "    layers.Dense(128, activation='relu'),\n",
        "    layers.Dense(num_classes, activation='softmax')\n",
        "])\n",
        "\n",
        "model.compile(optimizer='adam',\n",
        "              loss='categorical_crossentropy',\n",
        "              metrics=['accuracy'])\n",
        "\n",
        "# Train the model\n",
        "num_epochs = 10\n",
        "history = model.fit(\n",
        "    train_generator,\n",
        "    steps_per_epoch=len(train_generator),\n",
        "    epochs=num_epochs\n",
        ")\n",
        "\n",
        "# Evaluate the model on the test data\n",
        "test_loss, test_acc = model.evaluate(test_generator, steps=len(test_generator))\n",
        "print(\"Test accuracy:\", test_acc)"
      ]
    },
    {
      "cell_type": "code",
      "execution_count": null,
      "metadata": {
        "id": "2ymXaNBYyklI"
      },
      "outputs": [],
      "source": [
        "model.save('/content/drive/MyDrive/saved')"
      ]
    },
    {
      "cell_type": "code",
      "execution_count": 7,
      "metadata": {
        "colab": {
          "base_uri": "https://localhost:8080/",
          "height": 597
        },
        "id": "CnAmk3-9d060",
        "outputId": "8fdeed8d-4f20-4c95-915e-339383554250"
      },
      "outputs": [
        {
          "output_type": "display_data",
          "data": {
            "text/plain": [
              "<Figure size 600x600 with 1 Axes>"
            ],
            "image/png": "[encoded data removed]"
          },
          "metadata": {}
        },
        {
          "output_type": "stream",
          "name": "stdout",
          "text": [
            "1/1 [==============================] - 0s 293ms/step\n",
            "Number = : 4\n",
            "Error: name 'gTTS' is not defined\n"
          ]
        }
      ],
      "source": [
        "import numpy as np\n",
        "import matplotlib.pyplot as plt\n",
        "from tensorflow.keras.preprocessing import image\n",
        "from tensorflow.keras.models import load_model\n",
        "import cv2\n",
        "#import gTTS from gTTs\n",
        "from IPython.display import Audio\n",
        "from google.colab import output\n",
        "\n",
        "# Assuming you've already loaded the model and named it 'model'\n",
        "# model = load_model('/path/to/your/saved/model')\n",
        "# Define text_to_speech function\n",
        "def text_to_speech(text):\n",
        "    tts = gTTS(text=text, lang='en')  # 'bn' for Bengali language\n",
        "    tts.save('output.mp3')\n",
        "\n",
        "    audio = Audio('output.mp3')\n",
        "    output.clear()\n",
        "    display(audio)\n",
        "\n",
        "# Load and preprocess the new image\n",
        "new_img_path = '/content/drive/MyDrive/Dataset/Test/4/(1074).jpg'  # Replace with your image path\n",
        "\n",
        "# Read image and resize\n",
        "img = cv2.imread(new_img_path)\n",
        "img = cv2.resize(img, (150, 150))\n",
        "\n",
        "# Convert to grayscale\n",
        "img_gray = cv2.cvtColor(img, cv2.COLOR_BGR2GRAY)\n",
        "\n",
        "# Normalize pixel values\n",
        "img_array = img_gray / 255.0\n",
        "img_array = np.expand_dims(img_array, axis=0)\n",
        "#plt.show()\n",
        "\n",
        "try:\n",
        "    # Display the input image\n",
        "    plt.figure(figsize=(6, 6))\n",
        "    plt.imshow(img_gray, cmap='gray')\n",
        "    plt.title(\"Input Image\")\n",
        "    #plt.axis('off')\n",
        "    plt.show()\n",
        "\n",
        "    # Make predictions using the loaded model\n",
        "    predictions = model.predict(img_array)\n",
        "    predicted_class_index = np.argmax(predictions)\n",
        "\n",
        "    # Define class mapping\n",
        "    class_mapping = {\n",
        "        0: '0',\n",
        "        1: '1',\n",
        "        2: '2',\n",
        "        3: '3',\n",
        "        4: '4',\n",
        "        5: '5',\n",
        "        6: '6',\n",
        "        7: '7',\n",
        "        8: '8',\n",
        "        9: '9'\n",
        "    }\n",
        "\n",
        "    # Get the predicted class label\n",
        "    predicted_class_label = class_mapping[predicted_class_index]\n",
        "\n",
        "    print(\"Number = :\", predicted_class_label)\n",
        "    # Convert predicted class label to speech\n",
        "    text_to_speech(predicted_class_label)\n",
        "\n",
        "except Exception as e:\n",
        "    print(\"Error:\", e)"
      ]
    }
  ],
  "metadata": {
    "accelerator": "GPU",
    "colab": {
      "gpuType": "T4",
      "provenance": [],
      "mount_file_id": "1v89C1V3iTn1iYeY1MYsmbdweznHVkGMD",
      "authorship_tag": "ABX9TyM5dYLqvHCLb9FzI2wuk2Kk",
      "include_colab_link": true
    },
    "kernelspec": {
      "display_name": "Python 3",
      "name": "python3"
    },
    "language_info": {
      "name": "python"
    }
  },
  "nbformat": 4,
  "nbformat_minor": 0
}